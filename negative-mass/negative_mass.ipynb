{
 "cells": [
  {
   "cell_type": "markdown",
   "id": "diagnostic-wrestling",
   "metadata": {},
   "source": [
    "# Negative Mass Experiment\n",
    "\n",
    "A simple physics sim, but we're gonna use negatie masses too.\n",
    "\n",
    "---\n",
    "\n",
    "### Imports:"
   ]
  },
  {
   "cell_type": "code",
   "execution_count": 1,
   "id": "operational-planner",
   "metadata": {},
   "outputs": [],
   "source": [
    "import numpy as np\n",
    "import matplotlib.pyplot as plt\n",
    "from sim import Simulation\n",
    "from physics_object import PhysicsObject\n",
    "import cv2 as cv\n",
    "\n",
    "import IPython\n",
    "from matplotlib.animation import FuncAnimation\n",
    "from IPython.display import HTML\n",
    "import progressbar"
   ]
  },
  {
   "cell_type": "code",
   "execution_count": 32,
   "id": "orange-thermal",
   "metadata": {},
   "outputs": [
    {
     "name": "stdout",
     "output_type": "stream",
     "text": [
      "[25. 25. 10. 15.]\n",
      "['b', 'k', 'k', 'b']\n"
     ]
    },
    {
     "data": {
      "image/png": "[encoded data removed]",
      "text/plain": [
       "<Figure size 432x288 with 1 Axes>"
      ]
     },
     "metadata": {
      "needs_background": "light"
     },
     "output_type": "display_data"
    },
    {
     "name": "stderr",
     "output_type": "stream",
     "text": [
      "100% (29700 of 29700) |##################| Elapsed Time: 0:01:40 Time:  0:01:40\n"
     ]
    }
   ],
   "source": [
    "objpts = [[1.0,1.0], [2,1.0], [1.5,1.5], [3,1.2]]\n",
    "objmss = [5*10**8, -5*10**8, -2*10**8,3*10**8]\n",
    "point_sizes = 25 * np.abs(objmss) / np.max(np.abs(objmss))\n",
    "print(point_sizes)\n",
    "color = []\n",
    "for x in objmss:\n",
    "    if x >= 0:\n",
    "        color.append('b')\n",
    "    else:\n",
    "        color.append('k')\n",
    "print(color)\n",
    "objs = [PhysicsObject(objmss[i], objpts[i]) for i in range(len(objpts))]\n",
    "test_sim = Simulation(objs, step_size=1)\n",
    "\n",
    "x,y = test_sim.get_positions()\n",
    "ax = plt.axes()\n",
    "ax.set_ylim(-2,4)\n",
    "ax.set_xlim(-2,4)\n",
    "ax.scatter(x,y, c=color, s=point_sizes, cmap='gray')\n",
    "plt.show()\n",
    "\n",
    "for i in progressbar.progressbar(range(900*33)):\n",
    "    x,y = test_sim.step()\n",
    "    if i % 33 == 0:\n",
    "        fig = plt.figure()\n",
    "        ax = plt.axes()\n",
    "        ax.set_ylim(-2,4)\n",
    "        ax.set_xlim(-2,4)\n",
    "        ax.scatter(x,y, c=color, s=point_sizes, cmap='gray')\n",
    "        fig.savefig('{}.png'.format((int(i/33)+1)))\n",
    "        plt.close()"
   ]
  },
  {
   "cell_type": "code",
   "execution_count": null,
   "id": "medium-juvenile",
   "metadata": {},
   "outputs": [],
   "source": []
  },
  {
   "cell_type": "code",
   "execution_count": null,
   "id": "composed-amsterdam",
   "metadata": {},
   "outputs": [],
   "source": []
  },
  {
   "cell_type": "code",
   "execution_count": null,
   "id": "associate-wayne",
   "metadata": {},
   "outputs": [],
   "source": []
  }
 ],
 "metadata": {
  "kernelspec": {
   "display_name": "Python 3",
   "language": "python",
   "name": "python3"
  },
  "language_info": {
   "codemirror_mode": {
    "name": "ipython",
    "version": 3
   },
   "file_extension": ".py",
   "mimetype": "text/x-python",
   "name": "python",
   "nbconvert_exporter": "python",
   "pygments_lexer": "ipython3",
   "version": "3.7.4"
  }
 },
 "nbformat": 4,
 "nbformat_minor": 5
}
